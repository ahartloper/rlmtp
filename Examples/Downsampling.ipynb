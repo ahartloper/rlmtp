{
 "cells": [
  {
   "cell_type": "markdown",
   "metadata": {},
   "source": [
    "# Downsampling example\n",
    "\n",
    "This example demonstrates the use of `rlmtp`'s downsampler for individual tests."
   ]
  },
  {
   "cell_type": "code",
   "execution_count": 1,
   "metadata": {},
   "outputs": [],
   "source": [
    "import os\n",
    "import pandas as pd\n",
    "import matplotlib.pyplot as plt\n",
    "import rlmtp"
   ]
  },
  {
   "cell_type": "code",
   "execution_count": 2,
   "metadata": {},
   "outputs": [],
   "source": [
    "# Specify the directory with the data\n",
    "data_dir = './'\n",
    "# Specify the directory where you would want to save downsampled data\n",
    "output_dir = 'output'"
   ]
  },
  {
   "cell_type": "code",
   "execution_count": 3,
   "metadata": {},
   "outputs": [
    {
     "name": "stdout",
     "output_type": "stream",
     "text": [
      "Downsampling HEM320C-LP8_Specimen_1_processed_data.csv...\n",
      "Current error = 15.60%, # points = 12, current tol = 1.000e-01\n",
      "Current error = 1.13%, # points = 55, current tol = 3.053e-03\n",
      "Current error = 0.54%, # points = 79, current tol = 1.283e-03\n",
      "Current error = 0.54%, # points = 86, current tol = 1.129e-03\n",
      "Current error = 0.47%, # points = 98, current tol = 1.001e-03\n",
      "Current error = 0.50%, # points = 93, current tol = 1.041e-03\n"
     ]
    }
   ],
   "source": [
    "# Import the data (must contain the columns: e_true, Sigma_true, Time[s])\n",
    "cols_to_keep = ['e_true', 'Sigma_true', 'Time[s]']\n",
    "# Here the data is put in a list to suggest the case where you have several tests to be\n",
    "# downsampled at the same time. This can be done easily using the os.listdir function.\n",
    "data_files = ['HEM320C-LP8_Specimen_1_processed_data.csv']\n",
    "orig_data = [pd.read_csv(os.path.join(data_dir, f)) for f in data_files]\n",
    "\n",
    "# Specify some properties for the downsampler\n",
    "# Most of the parameters are left as their default values\n",
    "# tol is the target relative error in strain energy between the original data and the downsampled data\n",
    "# Note that we will use the \"global error method\" in the downsampler (use_local_error=False)\n",
    "tol = 0.005\n",
    "# f_yn is the nominal yield stress of the material\n",
    "f_yn = 355.0\n",
    "\n",
    "# Run the downsampler\n",
    "ds_data = []\n",
    "for i, d in enumerate(orig_data):\n",
    "    print('Downsampling {0}...'.format(data_files[i]))\n",
    "    ind = rlmtp.rlmtp_downsampler(d, use_local_error=False, downsample_tol=tol, f_yn=f_yn)\n",
    "    # Only keep the selected columns for the sampled points\n",
    "    ds_data.append(d.loc[ind, cols_to_keep])"
   ]
  },
  {
   "cell_type": "markdown",
   "metadata": {},
   "source": [
    "Given the above results (Current error = 0.50%, # points = 93, current tol = 1.041e-03), this is essentially the same as using the local error method with tol = 0.001 (the default value for the local method)."
   ]
  },
  {
   "cell_type": "code",
   "execution_count": 4,
   "metadata": {},
   "outputs": [
    {
     "data": {
      "text/html": [
       "<div>\n",
       "<style scoped>\n",
       "    .dataframe tbody tr th:only-of-type {\n",
       "        vertical-align: middle;\n",
       "    }\n",
       "\n",
       "    .dataframe tbody tr th {\n",
       "        vertical-align: top;\n",
       "    }\n",
       "\n",
       "    .dataframe thead th {\n",
       "        text-align: right;\n",
       "    }\n",
       "</style>\n",
       "<table border=\"1\" class=\"dataframe\">\n",
       "  <thead>\n",
       "    <tr style=\"text-align: right;\">\n",
       "      <th></th>\n",
       "      <th>e_true</th>\n",
       "      <th>Sigma_true</th>\n",
       "      <th>Time[s]</th>\n",
       "    </tr>\n",
       "  </thead>\n",
       "  <tbody>\n",
       "    <tr>\n",
       "      <th>0</th>\n",
       "      <td>0.000005</td>\n",
       "      <td>0.513109</td>\n",
       "      <td>0.100024</td>\n",
       "    </tr>\n",
       "    <tr>\n",
       "      <th>117</th>\n",
       "      <td>0.000222</td>\n",
       "      <td>46.993468</td>\n",
       "      <td>7.100006</td>\n",
       "    </tr>\n",
       "    <tr>\n",
       "      <th>210</th>\n",
       "      <td>0.000434</td>\n",
       "      <td>93.549303</td>\n",
       "      <td>11.750031</td>\n",
       "    </tr>\n",
       "    <tr>\n",
       "      <th>303</th>\n",
       "      <td>0.000648</td>\n",
       "      <td>140.107994</td>\n",
       "      <td>16.400056</td>\n",
       "    </tr>\n",
       "    <tr>\n",
       "      <th>395</th>\n",
       "      <td>0.000863</td>\n",
       "      <td>186.158079</td>\n",
       "      <td>21.000069</td>\n",
       "    </tr>\n",
       "    <tr>\n",
       "      <th>615</th>\n",
       "      <td>0.001080</td>\n",
       "      <td>232.661840</td>\n",
       "      <td>32.000041</td>\n",
       "    </tr>\n",
       "    <tr>\n",
       "      <th>634</th>\n",
       "      <td>0.001299</td>\n",
       "      <td>280.495207</td>\n",
       "      <td>32.950026</td>\n",
       "    </tr>\n",
       "    <tr>\n",
       "      <th>650</th>\n",
       "      <td>0.001535</td>\n",
       "      <td>325.771949</td>\n",
       "      <td>33.750098</td>\n",
       "    </tr>\n",
       "    <tr>\n",
       "      <th>666</th>\n",
       "      <td>0.001824</td>\n",
       "      <td>359.161347</td>\n",
       "      <td>34.550047</td>\n",
       "    </tr>\n",
       "    <tr>\n",
       "      <th>688</th>\n",
       "      <td>0.002190</td>\n",
       "      <td>375.265361</td>\n",
       "      <td>35.650068</td>\n",
       "    </tr>\n",
       "    <tr>\n",
       "      <th>697</th>\n",
       "      <td>0.002334</td>\n",
       "      <td>377.047190</td>\n",
       "      <td>36.100055</td>\n",
       "    </tr>\n",
       "    <tr>\n",
       "      <th>699</th>\n",
       "      <td>0.002366</td>\n",
       "      <td>377.116899</td>\n",
       "      <td>36.200079</td>\n",
       "    </tr>\n",
       "    <tr>\n",
       "      <th>707</th>\n",
       "      <td>0.002493</td>\n",
       "      <td>376.112077</td>\n",
       "      <td>36.600054</td>\n",
       "    </tr>\n",
       "    <tr>\n",
       "      <th>731</th>\n",
       "      <td>0.002854</td>\n",
       "      <td>365.584293</td>\n",
       "      <td>37.800100</td>\n",
       "    </tr>\n",
       "    <tr>\n",
       "      <th>755</th>\n",
       "      <td>0.003201</td>\n",
       "      <td>360.687113</td>\n",
       "      <td>39.000023</td>\n",
       "    </tr>\n",
       "    <tr>\n",
       "      <th>762</th>\n",
       "      <td>0.003308</td>\n",
       "      <td>363.046960</td>\n",
       "      <td>39.350108</td>\n",
       "    </tr>\n",
       "    <tr>\n",
       "      <th>773</th>\n",
       "      <td>0.003473</td>\n",
       "      <td>360.353524</td>\n",
       "      <td>39.900119</td>\n",
       "    </tr>\n",
       "    <tr>\n",
       "      <th>971</th>\n",
       "      <td>0.006431</td>\n",
       "      <td>365.055696</td>\n",
       "      <td>49.800069</td>\n",
       "    </tr>\n",
       "    <tr>\n",
       "      <th>1887</th>\n",
       "      <td>0.019991</td>\n",
       "      <td>414.000156</td>\n",
       "      <td>95.600026</td>\n",
       "    </tr>\n",
       "    <tr>\n",
       "      <th>1888</th>\n",
       "      <td>0.020006</td>\n",
       "      <td>414.021997</td>\n",
       "      <td>95.650038</td>\n",
       "    </tr>\n",
       "  </tbody>\n",
       "</table>\n",
       "</div>"
      ],
      "text/plain": [
       "        e_true  Sigma_true    Time[s]\n",
       "0     0.000005    0.513109   0.100024\n",
       "117   0.000222   46.993468   7.100006\n",
       "210   0.000434   93.549303  11.750031\n",
       "303   0.000648  140.107994  16.400056\n",
       "395   0.000863  186.158079  21.000069\n",
       "615   0.001080  232.661840  32.000041\n",
       "634   0.001299  280.495207  32.950026\n",
       "650   0.001535  325.771949  33.750098\n",
       "666   0.001824  359.161347  34.550047\n",
       "688   0.002190  375.265361  35.650068\n",
       "697   0.002334  377.047190  36.100055\n",
       "699   0.002366  377.116899  36.200079\n",
       "707   0.002493  376.112077  36.600054\n",
       "731   0.002854  365.584293  37.800100\n",
       "755   0.003201  360.687113  39.000023\n",
       "762   0.003308  363.046960  39.350108\n",
       "773   0.003473  360.353524  39.900119\n",
       "971   0.006431  365.055696  49.800069\n",
       "1887  0.019991  414.000156  95.600026\n",
       "1888  0.020006  414.021997  95.650038"
      ]
     },
     "execution_count": 4,
     "metadata": {},
     "output_type": "execute_result"
    }
   ],
   "source": [
    "# Display the first 20 points from the downsampled data\n",
    "# Notice that the index denotes the sampled points\n",
    "ds_data[0].iloc[:20, :]"
   ]
  },
  {
   "cell_type": "code",
   "execution_count": 5,
   "metadata": {},
   "outputs": [
    {
     "name": "stderr",
     "output_type": "stream",
     "text": [
      "/Users/ahartloper/anaconda/lib/python3.6/site-packages/matplotlib/font_manager.py:1328: UserWarning: findfont: Font family ['serif'] not found. Falling back to DejaVu Sans\n",
      "  (prop.get_family(), self.defaultFamily[fontext]))\n",
      "/Users/ahartloper/anaconda/lib/python3.6/site-packages/matplotlib/font_manager.py:1328: UserWarning: findfont: Font family ['serif'] not found. Falling back to DejaVu Sans\n",
      "  (prop.get_family(), self.defaultFamily[fontext]))\n",
      "/Users/ahartloper/anaconda/lib/python3.6/site-packages/matplotlib/font_manager.py:1328: UserWarning: findfont: Font family ['serif'] not found. Falling back to DejaVu Sans\n",
      "  (prop.get_family(), self.defaultFamily[fontext]))\n"
     ]
    },
    {
     "data": {
      "image/png": "[encoded data removed]",
      "text/plain": [
       "<Figure size 432x288 with 1 Axes>"
      ]
     },
     "metadata": {},
     "output_type": "display_data"
    }
   ],
   "source": [
    "# Plot the sampled and original data\n",
    "# The dots are the sampled points and the line is the original data\n",
    "for i, d in enumerate(orig_data):\n",
    "    ind = ds_data[i].index\n",
    "    plt.figure()\n",
    "    plt.plot(d['e_true'], d['Sigma_true'], c='k')\n",
    "    plt.plot(ds_data[i]['e_true'], ds_data[i]['Sigma_true'], c='k', marker='o')\n",
    "    plt.xlabel(r'True Strain, $\\varepsilon$')\n",
    "    plt.ylabel(r'True Stress, $\\sigma$ [MPa]')\n",
    "    plt.show()"
   ]
  },
  {
   "cell_type": "code",
   "execution_count": 6,
   "metadata": {},
   "outputs": [],
   "source": [
    "# Finally, the downsampled data can be saved by uncommenting the last command below\n",
    "for i, d in enumerate(ds_data):\n",
    "    name = data_files[i][:-4] + '_downsampled.csv'\n",
    "    out_path = os.path.join(output_dir, name)\n",
    "    # d.to_csv(out_path)"
   ]
  }
 ],
 "metadata": {
  "kernelspec": {
   "display_name": "Python 3.6.8 64-bit ('base': conda)",
   "language": "python",
   "name": "python3"
  },
  "language_info": {
   "codemirror_mode": {
    "name": "ipython",
    "version": 3
   },
   "file_extension": ".py",
   "mimetype": "text/x-python",
   "name": "python",
   "nbconvert_exporter": "python",
   "pygments_lexer": "ipython3",
   "version": "3.6.8"
  },
  "orig_nbformat": 4,
  "vscode": {
   "interpreter": {
    "hash": "b9d9b2f3e944037264a6b3c30b5856689eb9bd0f8eb01ec25b6c8077066ddcec"
   }
  }
 },
 "nbformat": 4,
 "nbformat_minor": 2
}
