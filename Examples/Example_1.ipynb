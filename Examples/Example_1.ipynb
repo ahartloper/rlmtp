{
 "cells": [
  {
   "cell_type": "markdown",
   "metadata": {
    "collapsed": false
   },
   "source": [
    "# RLMTP Basic Example"
   ]
  },
  {
   "cell_type": "markdown",
   "metadata": {},
   "source": [
    "rlmtp contains tools to post-process material coupon test data. This notebook contains shows the basic usage of this package. The first step is to load the package."
   ]
  },
  {
   "cell_type": "code",
   "execution_count": 1,
   "metadata": {
    "collapsed": true
   },
   "outputs": [],
   "source": [
    "import rlmtp"
   ]
  },
  {
   "cell_type": "markdown",
   "metadata": {},
   "source": [
    "The rest of this example illustrates the functionality of rlmtp. First, let's load some other useful packages for this example."
   ]
  },
  {
   "cell_type": "code",
   "execution_count": 2,
   "metadata": {
    "collapsed": true
   },
   "outputs": [],
   "source": [
    "from IPython.display import Image, IFrame"
   ]
  },
  {
   "cell_type": "markdown",
   "metadata": {
    "collapsed": true
   },
   "source": [
    "## Sync stress-strain data with temperature data"
   ]
  },
  {
   "cell_type": "markdown",
   "metadata": {},
   "source": [
    "Since we record the stress-strain and temperature through two different softwares, we would like to syncronize the measurements. This is done by matching the system times between the two sets of recordings --- rlmtp takes care of this step for you. First, we need to import the data from our different sources. Two functions are provided for this task, make sure that the data files follow the established format, otherwise the import will fail."
   ]
  },
  {
   "cell_type": "code",
   "execution_count": 3,
   "metadata": {
    "collapsed": true
   },
   "outputs": [],
   "source": [
    "path_to_dion_data = '../rlmtp/tests/LP9_1_181211.xlsx'  # replace with your path\n",
    "dion_data = rlmtp.import_dion7_data(path_to_dion_data)\n",
    "path_to_catman_data = '../rlmtp/tests/Temp_LP9_1_181211.XLSX'  # replace with your path\n",
    "catman_data = rlmtp.import_catman_data(path_to_catman_data)"
   ]
  },
  {
   "cell_type": "markdown",
   "metadata": {},
   "source": [
    "Now we can simply syncronize the data, and add the temperature measurements to the stress-strain measurements. The syncrhonization is done based on the 'System Date' column that exists within dion_data.data and catman_data.data. A copy of the Dion7 data is returned with a column of 'Temperature[C]'."
   ]
  },
  {
   "cell_type": "code",
   "execution_count": 4,
   "metadata": {
    "collapsed": true
   },
   "outputs": [],
   "source": [
    "synced_data = rlmtp.sync_temperature(dion_data, catman_data)"
   ]
  },
  {
   "cell_type": "markdown",
   "metadata": {},
   "source": [
    "The measurement data is now accessed through synced_data. The returned data is a pandas.DataFrame object."
   ]
  },
  {
   "cell_type": "markdown",
   "metadata": {},
   "source": [
    "## Process databases stored in the specified format"
   ]
  },
  {
   "cell_type": "markdown",
   "metadata": {},
   "source": [
    "A protocol is provided for the storage of coupon data, your life is made much easier if you follow this format. In this example the data is loaded automatically, the temperature is synchronized, the synchronized data is output, and plots are generated. In this example, the coupon data stored in the \"test_specimen\" directory follows our format."
   ]
  },
  {
   "cell_type": "code",
   "execution_count": 5,
   "metadata": {
    "collapsed": false
   },
   "outputs": [
    {
     "name": "stdout",
     "output_type": "stream",
     "text": [
      "Checking files...\n",
      "\t Dion7 data exists.\n",
      "\t catman data exists.\n",
      "\t Filtering information does NOT exist.\n",
      "Syncing temperature data with Dion7 data.\n"
     ]
    }
   ],
   "source": [
    "coupon_dir = '../rlmtp/tests/test_specimen/'\n",
    "output_dir = './'\n",
    "rlmtp.process_specimen_data(coupon_dir, output_dir)"
   ]
  },
  {
   "cell_type": "markdown",
   "metadata": {},
   "source": [
    "The function let's you know what data it finds, if the data is not found then: 1) it does not exist, 2) it is not named properly, or 3) it is not in the correct location. The process_specimen_data() function is useful to easily process entire databases by creating a loop over all the directories that contain coupon data."
   ]
  },
  {
   "cell_type": "markdown",
   "metadata": {},
   "source": [
    "The output from process_specimen_data() is generated in [output_dir]/[coupon_root], where coupon_root is the name of the directory that contains all the data for the coupon test. In this example the output is in \"./test_specimen/\", you can see: processed_data.csv, containing the test data; stress_strain_plot.pdf, the true stress - true strain plot; and temperature_strain_plot.pdf, the temperature plotted versus true strain. Let's look at the temperature response:"
   ]
  },
  {
   "cell_type": "code",
   "execution_count": 7,
   "metadata": {
    "collapsed": false
   },
   "outputs": [
    {
     "data": {
      "text/html": [
       "\n",
       "        <iframe\n",
       "            width=\"400\"\n",
       "            height=\"300\"\n",
       "            src=\"./test_specimen/temperature_strain_plot.pdf\"\n",
       "            frameborder=\"0\"\n",
       "            allowfullscreen\n",
       "        ></iframe>\n",
       "        "
      ],
      "text/plain": [
       "<IPython.lib.display.IFrame at 0x2733aeda3c8>"
      ]
     },
     "execution_count": 7,
     "metadata": {},
     "output_type": "execute_result"
    }
   ],
   "source": [
    "IFrame(\"./test_specimen/temperature_strain_plot.pdf\", width=400, height=300)"
   ]
  },
  {
   "cell_type": "markdown",
   "metadata": {},
   "source": [
    "From this plot we can see that the temperature rise is negligible for this specimen."
   ]
  },
  {
   "cell_type": "markdown",
   "metadata": {},
   "source": [
    "## Capture images at specified time steps"
   ]
  },
  {
   "cell_type": "markdown",
   "metadata": {},
   "source": [
    "VERY IMPORTANT: This functionality requires that ffmpeg is installed (equivalently, ffmpeg and ffprobe are on the Path) on your system. ffmpeg is a free software available at: https://www.ffmpeg.org/ ."
   ]
  },
  {
   "cell_type": "markdown",
   "metadata": {},
   "source": [
    "We may be interested to correlate the deformed shape of a specimen with particular time increments, for example to see if buckling has occured. For this example we need to load a new data set, and make sure we have the path to the video file of interest."
   ]
  },
  {
   "cell_type": "code",
   "execution_count": null,
   "metadata": {
    "collapsed": true
   },
   "outputs": [],
   "source": [
    "path_to_dion_data_2 = '../rlmtp/tests/testData_07012018.xlsx'\n",
    "dion_data_2 = rlmtp.import_dion7_data(path_to_dion_data_2)\n",
    "video = '../rlmtp/tests/D5600_B_254_132139_589.MOV'  # this file may not exist for you since it's around 1Gb we don't include it"
   ]
  },
  {
   "cell_type": "markdown",
   "metadata": {},
   "source": [
    "For the following commands to work, rlmtp requires that the video starts before the Dion7 recordings, and ends after the Dion7 recordings. Therefore, take care when you are starting and stopping the video. In this example, we are interested in seeing if buckling has occured at the excursion to -5.5 % strain. We identified this as the 18059'th time increment. First, we get the time in the Dion7 data corresponding to this increment, then find how many seconds into the video this time occurs."
   ]
  },
  {
   "cell_type": "code",
   "execution_count": null,
   "metadata": {
    "collapsed": false
   },
   "outputs": [],
   "source": [
    "time_55_strain = dion_data_2.get_times_at_increments([18059])\n",
    "video_time = rlmtp.dion7_times_to_video_times(video, time_55_strain)"
   ]
  },
  {
   "cell_type": "markdown",
   "metadata": {},
   "source": [
    "In the above command, multiple increments can be added to the list (in ascending order) to get multiple times, however we just wanted one picture. Now we use the time from Dion7 to capture the frames from the video. The pictures are saved in jpeg format to output_dir, with the format [file\\_name]\\_[S]\\_[ms].jpg, where S is the seconds in the video, and ms are the milliseconds."
   ]
  },
  {
   "cell_type": "code",
   "execution_count": null,
   "metadata": {
    "collapsed": false
   },
   "outputs": [],
   "source": [
    "output_dir = './'\n",
    "file_name = 'ex_1_pic'\n",
    "rlmtp.output_frames_at_times(video, video_time, output_dir, file_name)"
   ]
  },
  {
   "cell_type": "markdown",
   "metadata": {},
   "source": [
    "Now you can load the image and see the results."
   ]
  },
  {
   "cell_type": "code",
   "execution_count": null,
   "metadata": {
    "collapsed": false
   },
   "outputs": [],
   "source": [
    "Image(\"./ex_1_pic_916_394.jpg\")"
   ]
  },
  {
   "cell_type": "markdown",
   "metadata": {},
   "source": [
    "Clearly buckling has occured at this stage!"
   ]
  }
 ],
 "metadata": {
  "kernelspec": {
   "display_name": "Python 3",
   "language": "python",
   "name": "python3"
  },
  "language_info": {
   "codemirror_mode": {
    "name": "ipython",
    "version": 3
   },
   "file_extension": ".py",
   "mimetype": "text/x-python",
   "name": "python",
   "nbconvert_exporter": "python",
   "pygments_lexer": "ipython3",
   "version": "3.6.6"
  }
 },
 "nbformat": 4,
 "nbformat_minor": 0
}
